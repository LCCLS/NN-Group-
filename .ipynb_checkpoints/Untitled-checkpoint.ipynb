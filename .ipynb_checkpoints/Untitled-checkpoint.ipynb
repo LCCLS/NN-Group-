{
 "cells": [
  {
   "cell_type": "code",
   "execution_count": 1,
   "metadata": {},
   "outputs": [],
   "source": [
    "import numpy as np\n",
    "import math\n",
    "import matplotlib as plt"
   ]
  },
  {
   "cell_type": "code",
   "execution_count": 2,
   "metadata": {},
   "outputs": [],
   "source": [
    "M = [0.99,0,0,0,0.99,0.99,0.99,0,0.99,0.99,0.99,0,0.99,0,0.99,0.99,0,0,0,0.99,0.99,0,0,0,0.99]\n",
    "O = [0,0.99,0.99,0.99,0,0,0.99,0,0.99,0,0,0.99,0,0.99,0,0,0.99,0,0.99,0,0,0.99,0.99,0.99,0]\n",
    "L = [0,0.99,0,0,0,0,0.99,0,0,0,0,0.99,0,0,0,0,0.99,0,0,0,0,0.99,0.99,0.99,0]\n",
    "E = [0,0.99,0.99,0.99,0,0,0.99,0,0,0,0,0.99,0.99,0.99,0,0,0.99,0,0,0,0,0.99,0.99,0.99,0]\n",
    "O2 = [0.99,0.99,0.99,0.99,0.99,0.99,0,0,0,0.99,0.99,0,0,0,0.99,0.99,0,0,0,0.99,0.99,0.99,0.99,0.99,0.99]"
   ]
  },
  {
   "cell_type": "code",
   "execution_count": 3,
   "metadata": {},
   "outputs": [
    {
     "name": "stdout",
     "output_type": "stream",
     "text": [
      "[ 0.89 -0.1  -0.1  -0.1   0.89  0.89  0.89 -0.1   0.89  0.89  0.89 -0.1\n",
      "  0.89 -0.1   0.89  0.89 -0.1  -0.1  -0.1   0.89  0.89 -0.1  -0.1  -0.1\n",
      "  0.89]\n"
     ]
    }
   ],
   "source": [
    "def preprocessing(list_1):\n",
    "    \"\"\"returns a new list with its characters corrected for noise\n",
    "    Args:\n",
    "        list_1 (list): a list of integers representing a vector\n",
    "    Returns: \n",
    "        char_processed (list): a new list corrected for noise\n",
    "    \"\"\"\n",
    "    \n",
    "    char_processed = np.copy(list_1)\n",
    "    \n",
    "  #  for i in range(len(char_processed)):\n",
    "  #      if char_processed[i] == 0: \n",
    "  #          char_processed[i] = -1\n",
    "  #      elif char_processed[i] == 0.99:\n",
    "  #          char_processed[i] = 1.99\n",
    "  #      else: \n",
    "  #          continue\n",
    "        \n",
    "    for i in range(len(char_processed)):\n",
    "        char_processed[i] = char_processed[i] - 0.1\n",
    "        \n",
    "    return char_processed\n",
    "\n",
    "new_M = preprocessing(M)\n",
    "new_O = preprocessing(O)\n",
    "new_L = preprocessing(L)\n",
    "new_E = preprocessing(E)\n",
    "new_O2 = preprocessing(O2)\n",
    "\n",
    "print(new_M)"
   ]
  },
  {
   "cell_type": "code",
   "execution_count": 4,
   "metadata": {},
   "outputs": [
    {
     "name": "stdout",
     "output_type": "stream",
     "text": [
      "12.741299999999999\t1.9602\t0.9801\t1.9602\t9.800999999999998\n",
      "1.9602\t11.761199999999999\t6.8607\t9.800999999999998\t9.800999999999998\n",
      "0.9801\t6.8607\t6.8607\t6.8607\t9.800999999999998\n",
      "1.9602\t9.800999999999998\t6.8607\t10.781099999999999\t9.800999999999998\n",
      "9.800999999999998\t5.880599999999999\t3.9204\t5.880599999999999\t15.6816\n"
     ]
    }
   ],
   "source": [
    "print(str(np.dot(M,M))+'\\t'+str(np.dot(O,M))+'\\t'+str(np.dot(L,M))+'\\t'+str(np.dot(E,M))+'\\t'+str(np.dot(O2,M)))\n",
    "print(str(np.dot(M,O))+'\\t'+str(np.dot(O,O))+'\\t'+str(np.dot(L,O))+'\\t'+str(np.dot(E,O))+'\\t'+str(np.dot(O2,M)))\n",
    "print(str(np.dot(M,L))+'\\t'+str(np.dot(O,L))+'\\t'+str(np.dot(L,L))+'\\t'+str(np.dot(E,L))+'\\t'+str(np.dot(O2,M)))\n",
    "print(str(np.dot(M,E))+'\\t'+str(np.dot(O,E))+'\\t'+str(np.dot(L,E))+'\\t'+str(np.dot(E,E))+'\\t'+str(np.dot(O2,M)))\n",
    "print(str(np.dot(M,O2))+'\\t'+str(np.dot(O,O2))+'\\t'+str(np.dot(L,O2))+'\\t'+str(np.dot(E,O2))+'\\t'+str(np.dot(O2,O2)))"
   ]
  },
  {
   "cell_type": "code",
   "execution_count": 5,
   "metadata": {},
   "outputs": [
    {
     "name": "stdout",
     "output_type": "stream",
     "text": [
      "10.417300000000001\t-0.26480000000000015\t-0.7499\t-0.16580000000000006\t7.180000000000001\n",
      "-0.26480000000000015\t9.6352\t5.229700000000001\t-0.16580000000000006\t7.180000000000001\n",
      "-0.7499\t5.229700000000001\t5.7247\t-0.16580000000000006\t7.180000000000001\n",
      "-0.16580000000000006\t7.773999999999999\t5.3287\t8.8531\t7.180000000000001\n",
      "7.180000000000001\t3.358600000000001\t1.8934000000000002\t3.4576000000000002\t12.763600000000002\n"
     ]
    }
   ],
   "source": [
    "print(str(np.dot(new_M,new_M))+'\\t'+str(np.dot(new_O,new_M))+'\\t'+str(np.dot(new_L,new_M))+'\\t'+str(np.dot(new_E,new_M))+'\\t'+str(np.dot(new_O2,new_M)))\n",
    "print(str(np.dot(new_M,new_O))+'\\t'+str(np.dot(new_O,new_O))+'\\t'+str(np.dot(new_L,new_O))+'\\t'+str(np.dot(new_E,new_M))+'\\t'+str(np.dot(new_O2,new_M)))\n",
    "print(str(np.dot(new_M,new_L))+'\\t'+str(np.dot(new_O,new_L))+'\\t'+str(np.dot(new_L,new_L))+'\\t'+str(np.dot(new_E,new_M))+'\\t'+str(np.dot(new_O2,new_M)))\n",
    "print(str(np.dot(new_M,new_E))+'\\t'+str(np.dot(new_O,new_E))+'\\t'+str(np.dot(new_L,new_E))+'\\t'+str(np.dot(new_E,new_E))+'\\t'+str(np.dot(new_O2,new_M)))\n",
    "print(str(np.dot(new_M,new_O2))+'\\t'+str(np.dot(new_O,new_O2))+'\\t'+str(np.dot(new_L,new_O2))+'\\t'+str(np.dot(new_E,new_O2))+'\\t'+str(np.dot(new_O2,new_O2)))\n"
   ]
  },
  {
   "cell_type": "code",
   "execution_count": 6,
   "metadata": {},
   "outputs": [
    {
     "name": "stdout",
     "output_type": "stream",
     "text": [
      "[10.4173 -0.2648 -0.7499 -0.1658  7.18  ]\n",
      "[-0.2648  9.6352  5.2297  7.774   3.3586]\n",
      "[-0.7499  5.2297  5.7247  5.3287  1.8934]\n",
      "[-0.1658  7.774   5.3287  8.8531  3.4576]\n",
      "[ 7.18    3.3586  1.8934  3.4576 12.7636]\n"
     ]
    }
   ],
   "source": [
    "NN = [new_M,new_O,new_L,new_E,new_O2]\n",
    "print(np.matmul(NN,new_M))\n",
    "print(np.matmul(NN,new_O))\n",
    "print(np.matmul(NN,new_L))\n",
    "print(np.matmul(NN,new_E))\n",
    "print(np.matmul(NN,new_O2))\n"
   ]
  },
  {
   "cell_type": "code",
   "execution_count": 7,
   "metadata": {},
   "outputs": [
    {
     "name": "stdout",
     "output_type": "stream",
     "text": [
      "1\n",
      "0\n",
      "2\n",
      "3\n",
      "3\n",
      "4\n"
     ]
    }
   ],
   "source": [
    "print(np.argmax(np.matmul(NN,new_O)))\n",
    "print(np.argmax(np.matmul(NN,new_M)))\n",
    "print(np.argmax(np.matmul(NN,new_L)))\n",
    "print(np.argmax(np.matmul(NN,new_E)))\n",
    "print(np.argmax(np.matmul(NN,new_E)))\n",
    "print(np.argmax(np.matmul(NN,new_O2)))\n",
    "\n",
    "\n",
    "\n"
   ]
  },
  {
   "cell_type": "code",
   "execution_count": null,
   "metadata": {},
   "outputs": [],
   "source": []
  },
  {
   "cell_type": "code",
   "execution_count": null,
   "metadata": {},
   "outputs": [],
   "source": []
  },
  {
   "cell_type": "code",
   "execution_count": null,
   "metadata": {},
   "outputs": [],
   "source": []
  },
  {
   "cell_type": "code",
   "execution_count": null,
   "metadata": {},
   "outputs": [],
   "source": []
  }
 ],
 "metadata": {
  "kernelspec": {
   "display_name": "Python 3",
   "language": "python",
   "name": "python3"
  },
  "language_info": {
   "codemirror_mode": {
    "name": "ipython",
    "version": 3
   },
   "file_extension": ".py",
   "mimetype": "text/x-python",
   "name": "python",
   "nbconvert_exporter": "python",
   "pygments_lexer": "ipython3",
   "version": "3.7.9"
  }
 },
 "nbformat": 4,
 "nbformat_minor": 4
}
