{
 "cells": [
  {
   "cell_type": "code",
   "execution_count": 204,
   "metadata": {},
   "outputs": [],
   "source": [
    "import numpy as np\n",
    "import math"
   ]
  },
  {
   "cell_type": "code",
   "execution_count": 205,
   "metadata": {},
   "outputs": [],
   "source": [
    "M = [0.99,0,0,0,0.99,0.99,0.99,0,0.99,0.99,0.99,0,0.99,0,0.99,0.99,0,0,0,0.99,0.99,0,0,0,0.99]\n",
    "O = [0,0.99,0.99,0.99,0,0,0.99,0,0.99,0,0,0.99,0,0.99,0,0,0.99,0,0.99,0,0,0.99,0.99,0.99,0]\n",
    "L = [0,0.99,0,0,0,0,0.99,0,0,0,0,0.99,0,0,0,0,0.99,0,0,0,0,0.99,0.99,0.99,0]\n",
    "E = [0,0.99,0.99,0.99,0,0,0.99,0,0,0,0,0.99,0.99,0.99,0,0,0.99,0,0,0,0,0.99,0.99,0.99,0]\n",
    "O2 = [0.99,0.99,0.99,0.99,0.99,0.99,0,0,0,0.99,0.99,0,0,0,0.99,0.99,0,0,0,0.99,0.99,0.99,0.99,0.99,0.99]\n",
    "O_blur = [0.2,0.2,0.2,0.2,0.2,0.4,0.1,0,0.1,0.4,0.4,0.1,0,0.1,0.4,0.4,0.1,0,0.1,0.4,0.2,0.2,0.2,0.2,0.2,]"
   ]
  },
  {
   "cell_type": "code",
   "execution_count": 206,
   "metadata": {},
   "outputs": [
    {
     "name": "stdout",
     "output_type": "stream",
     "text": [
      "[ 0.1  0.1  0.1  0.1  0.1  0.3  0.  -0.1  0.   0.3  0.3  0.  -0.1  0.\n",
      "  0.3  0.3  0.  -0.1  0.   0.3  0.1  0.1  0.1  0.1  0.1]\n"
     ]
    }
   ],
   "source": [
    "import statistics \n",
    "\n",
    "def preprocessing(list_1):\n",
    "\n",
    "    \"\"\"returns a new list with its characters corrected for noise\n",
    "    \n",
    "    Args:\n",
    "        list_1 (list): a list of integers representing a vector\n",
    "        \n",
    "    Returns: \n",
    "        char_processed (list): a new list corrected for noise\n",
    "        \n",
    "    \"\"\"\n",
    "    char_processed = np.copy(list_1)\n",
    " \n",
    "    for i in range(len(char_processed)):     \n",
    "        char_processed[i] = char_processed[i] - 0.1\n",
    "\n",
    "    return char_processed\n",
    "\n",
    "new_M = preprocessing(M)\n",
    "new_O = preprocessing(O)\n",
    "new_L = preprocessing(L)\n",
    "new_E = preprocessing(E)\n",
    "new_O2 = preprocessing(O2)\n",
    "new_O_blur = preprocessing(O_blur)\n",
    "\n",
    "print(new_O_blur)"
   ]
  },
  {
   "cell_type": "code",
   "execution_count": 207,
   "metadata": {},
   "outputs": [],
   "source": [
    "import matplotlib.pyplot as plt"
   ]
  },
  {
   "cell_type": "code",
   "execution_count": 208,
   "metadata": {},
   "outputs": [
    {
     "data": {
      "image/png": "[encoded data removed]",
      "text/plain": [
       "<Figure size 432x288 with 1 Axes>"
      ]
     },
     "metadata": {
      "needs_background": "light"
     },
     "output_type": "display_data"
    }
   ],
   "source": [
    "# so this function basically just compares the prepocessed letters to the neural network and plots the predictive\n",
    "# percentages. (how sure it is). besides the preprocessing function, and the standardising function, \n",
    "# this is all we need. the rest is just for explaining what actually happens. \n",
    "\n",
    "\n",
    "def plot(data_):\n",
    "    Letters = ['M(0)', 'O(1)', 'L(2)', 'E(3)', 'O_Scale(4)', 'O_Blur(5)']\n",
    "    percent = []\n",
    "    precentage = []\n",
    "\n",
    "    for i in np.matmul(NN,data_):\n",
    "        percent.append(i)\n",
    "\n",
    "    Letter_dict = {Letters[i]: percent[i] for i in range(len(Letters))}\n",
    "    alpha = list(Letter_dict.keys())\n",
    "    nums = list(Letter_dict.values())\n",
    "\n",
    "    fig, ax = plt.subplots()\n",
    "    ax.bar(alpha, nums)\n",
    "    fig.suptitle('Predictive Accurace of Letter matching')\n",
    "    \n",
    "plot(new_M)"
   ]
  },
  {
   "cell_type": "code",
   "execution_count": null,
   "metadata": {},
   "outputs": [],
   "source": []
  },
  {
   "cell_type": "code",
   "execution_count": null,
   "metadata": {},
   "outputs": [],
   "source": []
  },
  {
   "cell_type": "code",
   "execution_count": null,
   "metadata": {},
   "outputs": [],
   "source": []
  },
  {
   "cell_type": "code",
   "execution_count": null,
   "metadata": {},
   "outputs": [],
   "source": []
  },
  {
   "cell_type": "code",
   "execution_count": null,
   "metadata": {},
   "outputs": [],
   "source": [
    "### all that is following is not necessarilly needed atm and is more for own comprehension "
   ]
  },
  {
   "cell_type": "code",
   "execution_count": null,
   "metadata": {},
   "outputs": [],
   "source": [
    "print(str(np.dot(M,M))+'\\t'+str(np.dot(O,M))+'\\t'+str(np.dot(L,M))+'\\t'+str(np.dot(E,M))+'\\t'+str(np.dot(O2,M))+'\\t'+str(np.dot(O_blur,M)))\n",
    "print(str(np.dot(M,O))+'\\t'+str(np.dot(O,O))+'\\t'+str(np.dot(L,O))+'\\t'+str(np.dot(E,O))+'\\t'+str(np.dot(O2,O))+'\\t'+str(np.dot(O_blur,O)))\n",
    "print(str(np.dot(M,L))+'\\t'+str(np.dot(O,L))+'\\t'+str(np.dot(L,L))+'\\t'+str(np.dot(E,L))+'\\t'+str(np.dot(O2,L))+'\\t'+str(np.dot(O_blur,L)))\n",
    "print(str(np.dot(M,E))+'\\t'+str(np.dot(O,E))+'\\t'+str(np.dot(L,E))+'\\t'+str(np.dot(E,E))+'\\t'+str(np.dot(O2,E))+'\\t'+str(np.dot(O_blur,E)))\n",
    "print(str(np.dot(M,O2))+'\\t'+str(np.dot(O,O2))+'\\t'+str(np.dot(L,O2))+'\\t'+str(np.dot(E,O2))+'\\t'+str(np.dot(O2,O2))+'\\t'+str(np.dot(O_blur,O2)))\n",
    "print(str(np.dot(M,O_blur))+'\\t'+str(np.dot(O,O_blur))+'\\t'+str(np.dot(L,O_blur))+'\\t'+str(np.dot(E,O_blur))+'\\t'+str(np.dot(O2,O_blur))+'\\t'+str(np.dot(O_blur,O_blur)))"
   ]
  },
  {
   "cell_type": "code",
   "execution_count": null,
   "metadata": {},
   "outputs": [],
   "source": [
    "print(str(np.dot(new_M,new_M))+'\\t'+str(np.dot(new_O,new_M))+'\\t'+str(np.dot(new_L,new_M))+'\\t'+str(np.dot(new_E,new_M))+'\\t'+str(np.dot(new_O2,new_M))+'\\t'+str(np.dot(new_O_blur,new_M)))\n",
    "print(str(np.dot(new_M,new_O))+'\\t'+str(np.dot(new_O,new_O))+'\\t'+str(np.dot(new_L,new_O))+'\\t'+str(np.dot(new_E,new_M))+'\\t'+str(np.dot(new_O2,new_M))+'\\t'+str(np.dot(new_O_blur,new_M)))\n",
    "print(str(np.dot(new_M,new_L))+'\\t'+str(np.dot(new_O,new_L))+'\\t'+str(np.dot(new_L,new_L))+'\\t'+str(np.dot(new_E,new_M))+'\\t'+str(np.dot(new_O2,new_M))+'\\t'+str(np.dot(new_O_blur,new_M)))\n",
    "print(str(np.dot(new_M,new_E))+'\\t'+str(np.dot(new_O,new_E))+'\\t'+str(np.dot(new_L,new_E))+'\\t'+str(np.dot(new_E,new_E))+'\\t'+str(np.dot(new_O2,new_M))+'\\t'+str(np.dot(new_O_blur,new_M)))\n",
    "print(str(np.dot(new_M,new_O2))+'\\t'+str(np.dot(new_O,new_O2))+'\\t'+str(np.dot(new_L,new_O2))+'\\t'+str(np.dot(new_E,new_O2))+'\\t'+str(np.dot(new_O2,new_O2))+'\\t'+str(np.dot(new_O_blur,new_M)))\n",
    "print(str(np.dot(new_M,new_O_blur))+'\\t'+str(np.dot(new_O,new_O_blur))+'\\t'+str(np.dot(new_L,new_O_blur))+'\\t'+str(np.dot(new_E,new_O_blur))+'\\t'+str(np.dot(new_O2,new_O_blur))+'\\t'+str(np.dot(new_O_blur,new_O_blur)))"
   ]
  },
  {
   "cell_type": "code",
   "execution_count": null,
   "metadata": {},
   "outputs": [],
   "source": [
    "def matmul(data):\n",
    "    \n",
    "    \"\"\"returns a list of floats that represents similarity to letters\n",
    "    \n",
    "    Args: \n",
    "        data (list): a list representing weights for each cell in the matrix (vector) letter\n",
    "        \n",
    "    Returns: \n",
    "        percentage (list): a list where each value represents the similarity between data and the NN. \n",
    "    \"\"\"\n",
    "    \n",
    "    NN = [new_M,new_O,new_L,new_E,new_O2,new_O_blur]\n",
    "    percentage = np.matmul(NN,data)\n",
    "    \n",
    "    return percentage\n",
    "    \n",
    "\n",
    "    \n",
    "print(matmul(new_M))\n",
    "print(matmul(new_O))\n",
    "print(matmul(new_L))\n",
    "print(matmul(new_E))\n",
    "print(matmul(new_O2))\n",
    "print(matmul(new_O_blur))\n",
    "\n"
   ]
  },
  {
   "cell_type": "code",
   "execution_count": null,
   "metadata": {},
   "outputs": [],
   "source": [
    "print(np.argmax(np.matmul(NN,new_O)))\n",
    "print(np.argmax(np.matmul(NN,new_M)))\n",
    "print(np.argmax(np.matmul(NN,new_L)))\n",
    "print(np.argmax(np.matmul(NN,new_E)))\n",
    "print(np.argmax(np.matmul(NN,new_E)))\n",
    "print(np.argmax(np.matmul(NN,new_O2)))\n",
    "print(np.argmax(np.matmul(NN,new_O_blur)))"
   ]
  }
 ],
 "metadata": {
  "kernelspec": {
   "display_name": "Python 3",
   "language": "python",
   "name": "python3"
  },
  "language_info": {
   "codemirror_mode": {
    "name": "ipython",
    "version": 3
   },
   "file_extension": ".py",
   "mimetype": "text/x-python",
   "name": "python",
   "nbconvert_exporter": "python",
   "pygments_lexer": "ipython3",
   "version": "3.8.5"
  }
 },
 "nbformat": 4,
 "nbformat_minor": 4
}
